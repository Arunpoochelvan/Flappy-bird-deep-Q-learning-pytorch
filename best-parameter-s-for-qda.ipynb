{
 "cells": [
  {
   "cell_type": "markdown",
   "metadata": {},
   "source": [
    "Thanks to great public kernels (e.g. [Synthetic data for (next?) Instant Gratification](https://www.kaggle.com/mhviraf/synthetic-data-for-next-instant-gratification) and [Quadratic Discriminant Analysis](https://www.kaggle.com/speedwagon/quadratic-discriminant-analysis)), we all know that applying quadratic discriminant analysis to data with the same values of 'wheezy-copper-turtle-magic' is a very promissing way to go in this competition.\n",
    "\n",
    "QDA has essentially only one hyperparameter, which is 'reg_param', for regularization. What I would like to try here is to see whether using the same 'reg_param', say 0.1 or 0.5, for 512 models is OK. \n",
    "\n",
    "To this end, I simply use GridSearchCV in each model."
   ]
  },
  {
   "cell_type": "code",
   "execution_count": 1,
   "metadata": {
    "_cell_guid": "b1076dfc-b9ad-4769-8c92-a6c4dae69d19",
    "_uuid": "8f2839f25d086af736a60e9eeb907d3b93b6e0e5"
   },
   "outputs": [
    {
     "name": "stdout",
     "output_type": "stream",
     "text": [
      "['sample_submission.csv', 'train.csv', 'test.csv']\n"
     ]
    }
   ],
   "source": [
    "# This Python 3 environment comes with many helpful analytics libraries installed\n",
    "# It is defined by the kaggle/python docker image: https://github.com/kaggle/docker-python\n",
    "# For example, here's several helpful packages to load in \n",
    "\n",
    "import numpy as np # linear algebra\n",
    "import pandas as pd # data processing, CSV file I/O (e.g. pd.read_csv)\n",
    "\n",
    "# Input data files are available in the \"../input/\" directory.\n",
    "# For example, running this (by clicking run or pressing Shift+Enter) will list the files in the input directory\n",
    "\n",
    "import os\n",
    "print(os.listdir(\"../input\"))\n",
    "\n",
    "# Any results you write to the current directory are saved as output."
   ]
  },
  {
   "cell_type": "markdown",
   "metadata": {},
   "source": [
    "### libraries"
   ]
  },
  {
   "cell_type": "code",
   "execution_count": 2,
   "metadata": {
    "_cell_guid": "79c7e3d0-c299-4dcb-8224-4455121ee9b0",
    "_uuid": "d629ff2d2480ee46fbb7e2d37f6b5fab8052498a"
   },
   "outputs": [
    {
     "name": "stdout",
     "output_type": "stream",
     "text": [
      "Libraries were imported.\n"
     ]
    }
   ],
   "source": [
    "from sklearn.model_selection import StratifiedKFold\n",
    "from sklearn.metrics import roc_auc_score\n",
    "from sklearn.preprocessing import StandardScaler\n",
    "from sklearn.feature_selection import VarianceThreshold\n",
    "from sklearn.model_selection import GridSearchCV, train_test_split\n",
    "\n",
    "from sklearn.discriminant_analysis import QuadraticDiscriminantAnalysis\n",
    "\n",
    "import seaborn as sns\n",
    "import matplotlib.pyplot as plt\n",
    "\n",
    "import warnings\n",
    "warnings.filterwarnings('ignore')\n",
    "\n",
    "print(\"Libraries were imported.\")"
   ]
  },
  {
   "cell_type": "markdown",
   "metadata": {},
   "source": [
    "### load data"
   ]
  },
  {
   "cell_type": "code",
   "execution_count": 3,
   "metadata": {},
   "outputs": [
    {
     "name": "stdout",
     "output_type": "stream",
     "text": [
      "Data were loaded.\n"
     ]
    }
   ],
   "source": [
    "train = pd.read_csv('../input/train.csv')\n",
    "test = pd.read_csv('../input/test.csv')\n",
    "\n",
    "print(\"Data were loaded.\")\n",
    "cols = [c for c in train.columns if c not in ['id', 'target', 'wheezy-copper-turtle-magic']]"
   ]
  },
  {
   "cell_type": "markdown",
   "metadata": {},
   "source": [
    "### Parameter tuning on QDA via GridSearchCV"
   ]
  },
  {
   "cell_type": "code",
   "execution_count": 4,
   "metadata": {},
   "outputs": [
    {
     "name": "stdout",
     "output_type": "stream",
     "text": [
      "Best reg_param for model 0 is 0.5\n",
      "Best reg_param for model 1 is 0.2\n",
      "Best reg_param for model 2 is 0.3\n",
      "Best reg_param for model 3 is 0.2\n",
      "Best reg_param for model 4 is 0.5\n",
      "Best reg_param for model 5 is 0.1\n",
      "Best reg_param for model 6 is 0.1\n",
      "Best reg_param for model 7 is 0.2\n",
      "Best reg_param for model 8 is 0.3\n",
      "Best reg_param for model 9 is 0.5\n",
      "Best reg_param for model 10 is 0.2\n",
      "Best reg_param for model 11 is 0.4\n",
      "Best reg_param for model 12 is 0.1\n",
      "Best reg_param for model 13 is 0.3\n",
      "Best reg_param for model 14 is 0.1\n",
      "Best reg_param for model 15 is 0.4\n",
      "Best reg_param for model 16 is 0.3\n",
      "Best reg_param for model 17 is 0.2\n",
      "Best reg_param for model 18 is 0.2\n",
      "Best reg_param for model 19 is 0.5\n",
      "Best reg_param for model 20 is 0.1\n",
      "Best reg_param for model 21 is 0.4\n",
      "Best reg_param for model 22 is 0.4\n",
      "Best reg_param for model 23 is 0.1\n",
      "Best reg_param for model 24 is 0.5\n",
      "Best reg_param for model 25 is 0.4\n",
      "Best reg_param for model 26 is 0.1\n",
      "Best reg_param for model 27 is 0.4\n",
      "Best reg_param for model 28 is 0.4\n",
      "Best reg_param for model 29 is 0.1\n",
      "Best reg_param for model 30 is 0.1\n",
      "Best reg_param for model 31 is 0.3\n",
      "Best reg_param for model 32 is 0.4\n",
      "Best reg_param for model 33 is 0.1\n",
      "Best reg_param for model 34 is 0.5\n",
      "Best reg_param for model 35 is 0.2\n",
      "Best reg_param for model 36 is 0.3\n",
      "Best reg_param for model 37 is 0.1\n",
      "Best reg_param for model 38 is 0.1\n",
      "Best reg_param for model 39 is 0.5\n",
      "Best reg_param for model 40 is 0.5\n",
      "Best reg_param for model 41 is 0.5\n",
      "Best reg_param for model 42 is 0.3\n",
      "Best reg_param for model 43 is 0.5\n",
      "Best reg_param for model 44 is 0.4\n",
      "Best reg_param for model 45 is 0.1\n",
      "Best reg_param for model 46 is 0.1\n",
      "Best reg_param for model 47 is 0.1\n",
      "Best reg_param for model 48 is 0.5\n",
      "Best reg_param for model 49 is 0.5\n",
      "Best reg_param for model 50 is 0.5\n",
      "Best reg_param for model 51 is 0.1\n",
      "Best reg_param for model 52 is 0.3\n",
      "Best reg_param for model 53 is 0.1\n",
      "Best reg_param for model 54 is 0.1\n",
      "Best reg_param for model 55 is 0.4\n",
      "Best reg_param for model 56 is 0.2\n",
      "Best reg_param for model 57 is 0.3\n",
      "Best reg_param for model 58 is 0.1\n",
      "Best reg_param for model 59 is 0.1\n",
      "Best reg_param for model 60 is 0.5\n",
      "Best reg_param for model 61 is 0.2\n",
      "Best reg_param for model 62 is 0.4\n",
      "Best reg_param for model 63 is 0.1\n",
      "Best reg_param for model 64 is 0.1\n",
      "Best reg_param for model 65 is 0.1\n",
      "Best reg_param for model 66 is 0.1\n",
      "Best reg_param for model 67 is 0.4\n",
      "Best reg_param for model 68 is 0.2\n",
      "Best reg_param for model 69 is 0.1\n",
      "Best reg_param for model 70 is 0.1\n",
      "Best reg_param for model 71 is 0.5\n",
      "Best reg_param for model 72 is 0.4\n",
      "Best reg_param for model 73 is 0.1\n",
      "Best reg_param for model 74 is 0.3\n",
      "Best reg_param for model 75 is 0.2\n",
      "Best reg_param for model 76 is 0.4\n",
      "Best reg_param for model 77 is 0.1\n",
      "Best reg_param for model 78 is 0.3\n",
      "Best reg_param for model 79 is 0.5\n",
      "Best reg_param for model 80 is 0.1\n",
      "Best reg_param for model 81 is 0.5\n",
      "Best reg_param for model 82 is 0.1\n",
      "Best reg_param for model 83 is 0.5\n",
      "Best reg_param for model 84 is 0.1\n",
      "Best reg_param for model 85 is 0.1\n",
      "Best reg_param for model 86 is 0.4\n",
      "Best reg_param for model 87 is 0.5\n",
      "Best reg_param for model 88 is 0.4\n",
      "Best reg_param for model 89 is 0.2\n",
      "Best reg_param for model 90 is 0.1\n",
      "Best reg_param for model 91 is 0.1\n",
      "Best reg_param for model 92 is 0.4\n",
      "Best reg_param for model 93 is 0.5\n",
      "Best reg_param for model 94 is 0.2\n",
      "Best reg_param for model 95 is 0.5\n",
      "Best reg_param for model 96 is 0.5\n",
      "Best reg_param for model 97 is 0.4\n",
      "Best reg_param for model 98 is 0.1\n",
      "Best reg_param for model 99 is 0.5\n",
      "Best reg_param for model 100 is 0.5\n",
      "Best reg_param for model 101 is 0.3\n",
      "Best reg_param for model 102 is 0.5\n",
      "Best reg_param for model 103 is 0.2\n",
      "Best reg_param for model 104 is 0.4\n",
      "Best reg_param for model 105 is 0.4\n",
      "Best reg_param for model 106 is 0.1\n",
      "Best reg_param for model 107 is 0.4\n",
      "Best reg_param for model 108 is 0.4\n",
      "Best reg_param for model 109 is 0.1\n",
      "Best reg_param for model 110 is 0.1\n",
      "Best reg_param for model 111 is 0.5\n",
      "Best reg_param for model 112 is 0.5\n",
      "Best reg_param for model 113 is 0.5\n",
      "Best reg_param for model 114 is 0.1\n",
      "Best reg_param for model 115 is 0.2\n",
      "Best reg_param for model 116 is 0.4\n",
      "Best reg_param for model 117 is 0.1\n",
      "Best reg_param for model 118 is 0.4\n",
      "Best reg_param for model 119 is 0.5\n",
      "Best reg_param for model 120 is 0.5\n",
      "Best reg_param for model 121 is 0.5\n",
      "Best reg_param for model 122 is 0.2\n",
      "Best reg_param for model 123 is 0.2\n",
      "Best reg_param for model 124 is 0.2\n",
      "Best reg_param for model 125 is 0.5\n",
      "Best reg_param for model 126 is 0.1\n",
      "Best reg_param for model 127 is 0.1\n",
      "Best reg_param for model 128 is 0.3\n",
      "Best reg_param for model 129 is 0.5\n",
      "Best reg_param for model 130 is 0.3\n",
      "Best reg_param for model 131 is 0.1\n",
      "Best reg_param for model 132 is 0.4\n",
      "Best reg_param for model 133 is 0.1\n",
      "Best reg_param for model 134 is 0.3\n",
      "Best reg_param for model 135 is 0.1\n",
      "Best reg_param for model 136 is 0.2\n",
      "Best reg_param for model 137 is 0.5\n",
      "Best reg_param for model 138 is 0.5\n",
      "Best reg_param for model 139 is 0.1\n",
      "Best reg_param for model 140 is 0.1\n",
      "Best reg_param for model 141 is 0.1\n",
      "Best reg_param for model 142 is 0.4\n",
      "Best reg_param for model 143 is 0.1\n",
      "Best reg_param for model 144 is 0.5\n",
      "Best reg_param for model 145 is 0.5\n",
      "Best reg_param for model 146 is 0.5\n",
      "Best reg_param for model 147 is 0.1\n",
      "Best reg_param for model 148 is 0.5\n",
      "Best reg_param for model 149 is 0.5\n",
      "Best reg_param for model 150 is 0.1\n",
      "Best reg_param for model 151 is 0.5\n",
      "Best reg_param for model 152 is 0.5\n",
      "Best reg_param for model 153 is 0.2\n",
      "Best reg_param for model 154 is 0.4\n",
      "Best reg_param for model 155 is 0.2\n",
      "Best reg_param for model 156 is 0.1\n",
      "Best reg_param for model 157 is 0.5\n",
      "Best reg_param for model 158 is 0.3\n",
      "Best reg_param for model 159 is 0.5\n",
      "Best reg_param for model 160 is 0.2\n",
      "Best reg_param for model 161 is 0.4\n",
      "Best reg_param for model 162 is 0.4\n",
      "Best reg_param for model 163 is 0.5\n",
      "Best reg_param for model 164 is 0.2\n",
      "Best reg_param for model 165 is 0.3\n",
      "Best reg_param for model 166 is 0.1\n",
      "Best reg_param for model 167 is 0.1\n",
      "Best reg_param for model 168 is 0.5\n",
      "Best reg_param for model 169 is 0.1\n",
      "Best reg_param for model 170 is 0.5\n",
      "Best reg_param for model 171 is 0.5\n",
      "Best reg_param for model 172 is 0.5\n",
      "Best reg_param for model 173 is 0.5\n",
      "Best reg_param for model 174 is 0.1\n",
      "Best reg_param for model 175 is 0.5\n",
      "Best reg_param for model 176 is 0.4\n",
      "Best reg_param for model 177 is 0.1\n",
      "Best reg_param for model 178 is 0.4\n",
      "Best reg_param for model 179 is 0.3\n",
      "Best reg_param for model 180 is 0.4\n",
      "Best reg_param for model 181 is 0.4\n",
      "Best reg_param for model 182 is 0.3\n",
      "Best reg_param for model 183 is 0.1\n",
      "Best reg_param for model 184 is 0.4\n",
      "Best reg_param for model 185 is 0.4\n",
      "Best reg_param for model 186 is 0.2\n",
      "Best reg_param for model 187 is 0.5\n",
      "Best reg_param for model 188 is 0.4\n",
      "Best reg_param for model 189 is 0.4\n",
      "Best reg_param for model 190 is 0.2\n",
      "Best reg_param for model 191 is 0.1\n",
      "Best reg_param for model 192 is 0.2\n",
      "Best reg_param for model 193 is 0.5\n",
      "Best reg_param for model 194 is 0.5\n",
      "Best reg_param for model 195 is 0.1\n",
      "Best reg_param for model 196 is 0.5\n",
      "Best reg_param for model 197 is 0.3\n",
      "Best reg_param for model 198 is 0.4\n",
      "Best reg_param for model 199 is 0.5\n",
      "Best reg_param for model 200 is 0.1\n",
      "Best reg_param for model 201 is 0.5\n",
      "Best reg_param for model 202 is 0.5\n",
      "Best reg_param for model 203 is 0.5\n",
      "Best reg_param for model 204 is 0.1\n",
      "Best reg_param for model 205 is 0.1\n",
      "Best reg_param for model 206 is 0.3\n",
      "Best reg_param for model 207 is 0.2\n",
      "Best reg_param for model 208 is 0.5\n",
      "Best reg_param for model 209 is 0.1\n",
      "Best reg_param for model 210 is 0.5\n",
      "Best reg_param for model 211 is 0.5\n",
      "Best reg_param for model 212 is 0.4\n",
      "Best reg_param for model 213 is 0.1\n",
      "Best reg_param for model 214 is 0.5\n",
      "Best reg_param for model 215 is 0.1\n",
      "Best reg_param for model 216 is 0.5\n",
      "Best reg_param for model 217 is 0.1\n",
      "Best reg_param for model 218 is 0.3\n",
      "Best reg_param for model 219 is 0.3\n",
      "Best reg_param for model 220 is 0.1\n",
      "Best reg_param for model 221 is 0.1\n",
      "Best reg_param for model 222 is 0.1\n",
      "Best reg_param for model 223 is 0.4\n",
      "Best reg_param for model 224 is 0.3\n",
      "Best reg_param for model 225 is 0.1\n",
      "Best reg_param for model 226 is 0.1\n",
      "Best reg_param for model 227 is 0.4\n",
      "Best reg_param for model 228 is 0.3\n",
      "Best reg_param for model 229 is 0.3\n",
      "Best reg_param for model 230 is 0.4\n",
      "Best reg_param for model 231 is 0.5\n",
      "Best reg_param for model 232 is 0.2\n",
      "Best reg_param for model 233 is 0.1\n",
      "Best reg_param for model 234 is 0.5\n",
      "Best reg_param for model 235 is 0.5\n",
      "Best reg_param for model 236 is 0.4\n",
      "Best reg_param for model 237 is 0.4\n",
      "Best reg_param for model 238 is 0.3\n",
      "Best reg_param for model 239 is 0.1\n",
      "Best reg_param for model 240 is 0.1\n",
      "Best reg_param for model 241 is 0.5\n",
      "Best reg_param for model 242 is 0.1\n",
      "Best reg_param for model 243 is 0.1\n",
      "Best reg_param for model 244 is 0.1\n",
      "Best reg_param for model 245 is 0.1\n",
      "Best reg_param for model 246 is 0.3\n",
      "Best reg_param for model 247 is 0.3\n",
      "Best reg_param for model 248 is 0.2\n",
      "Best reg_param for model 249 is 0.1\n",
      "Best reg_param for model 250 is 0.5\n",
      "Best reg_param for model 251 is 0.4\n",
      "Best reg_param for model 252 is 0.3\n",
      "Best reg_param for model 253 is 0.1\n",
      "Best reg_param for model 254 is 0.3\n",
      "Best reg_param for model 255 is 0.1\n",
      "Best reg_param for model 256 is 0.2\n",
      "Best reg_param for model 257 is 0.4\n",
      "Best reg_param for model 258 is 0.5\n",
      "Best reg_param for model 259 is 0.3\n",
      "Best reg_param for model 260 is 0.1\n",
      "Best reg_param for model 261 is 0.1\n",
      "Best reg_param for model 262 is 0.3\n",
      "Best reg_param for model 263 is 0.3\n",
      "Best reg_param for model 264 is 0.4\n",
      "Best reg_param for model 265 is 0.4\n",
      "Best reg_param for model 266 is 0.2\n",
      "Best reg_param for model 267 is 0.5\n",
      "Best reg_param for model 268 is 0.1\n",
      "Best reg_param for model 269 is 0.5\n",
      "Best reg_param for model 270 is 0.3\n",
      "Best reg_param for model 271 is 0.1\n",
      "Best reg_param for model 272 is 0.2\n",
      "Best reg_param for model 273 is 0.5\n",
      "Best reg_param for model 274 is 0.1\n",
      "Best reg_param for model 275 is 0.1\n",
      "Best reg_param for model 276 is 0.5\n",
      "Best reg_param for model 277 is 0.4\n",
      "Best reg_param for model 278 is 0.1\n",
      "Best reg_param for model 279 is 0.5\n",
      "Best reg_param for model 280 is 0.5\n",
      "Best reg_param for model 281 is 0.5\n",
      "Best reg_param for model 282 is 0.3\n",
      "Best reg_param for model 283 is 0.2\n",
      "Best reg_param for model 284 is 0.4\n",
      "Best reg_param for model 285 is 0.5\n",
      "Best reg_param for model 286 is 0.4\n",
      "Best reg_param for model 287 is 0.3\n",
      "Best reg_param for model 288 is 0.1\n",
      "Best reg_param for model 289 is 0.4\n",
      "Best reg_param for model 290 is 0.3\n",
      "Best reg_param for model 291 is 0.2\n",
      "Best reg_param for model 292 is 0.2\n",
      "Best reg_param for model 293 is 0.1\n",
      "Best reg_param for model 294 is 0.4\n",
      "Best reg_param for model 295 is 0.4\n",
      "Best reg_param for model 296 is 0.1\n",
      "Best reg_param for model 297 is 0.2\n",
      "Best reg_param for model 298 is 0.1\n",
      "Best reg_param for model 299 is 0.5\n",
      "Best reg_param for model 300 is 0.3\n",
      "Best reg_param for model 301 is 0.2\n",
      "Best reg_param for model 302 is 0.1\n",
      "Best reg_param for model 303 is 0.2\n",
      "Best reg_param for model 304 is 0.3\n",
      "Best reg_param for model 305 is 0.2\n",
      "Best reg_param for model 306 is 0.5\n",
      "Best reg_param for model 307 is 0.4\n",
      "Best reg_param for model 308 is 0.5\n",
      "Best reg_param for model 309 is 0.5\n",
      "Best reg_param for model 310 is 0.1\n",
      "Best reg_param for model 311 is 0.1\n",
      "Best reg_param for model 312 is 0.4\n",
      "Best reg_param for model 313 is 0.3\n",
      "Best reg_param for model 314 is 0.3\n",
      "Best reg_param for model 315 is 0.4\n",
      "Best reg_param for model 316 is 0.3\n",
      "Best reg_param for model 317 is 0.2\n",
      "Best reg_param for model 318 is 0.5\n",
      "Best reg_param for model 319 is 0.4\n",
      "Best reg_param for model 320 is 0.1\n",
      "Best reg_param for model 321 is 0.1\n",
      "Best reg_param for model 322 is 0.4\n",
      "Best reg_param for model 323 is 0.1\n",
      "Best reg_param for model 324 is 0.1\n",
      "Best reg_param for model 325 is 0.5\n",
      "Best reg_param for model 326 is 0.4\n",
      "Best reg_param for model 327 is 0.1\n",
      "Best reg_param for model 328 is 0.4\n",
      "Best reg_param for model 329 is 0.5\n",
      "Best reg_param for model 330 is 0.3\n",
      "Best reg_param for model 331 is 0.2\n",
      "Best reg_param for model 332 is 0.5\n",
      "Best reg_param for model 333 is 0.4\n",
      "Best reg_param for model 334 is 0.4\n",
      "Best reg_param for model 335 is 0.5\n",
      "Best reg_param for model 336 is 0.1\n",
      "Best reg_param for model 337 is 0.1\n",
      "Best reg_param for model 338 is 0.5\n",
      "Best reg_param for model 339 is 0.5\n",
      "Best reg_param for model 340 is 0.5\n",
      "Best reg_param for model 341 is 0.1\n",
      "Best reg_param for model 342 is 0.5\n",
      "Best reg_param for model 343 is 0.1\n",
      "Best reg_param for model 344 is 0.5\n",
      "Best reg_param for model 345 is 0.2\n",
      "Best reg_param for model 346 is 0.1\n",
      "Best reg_param for model 347 is 0.1\n",
      "Best reg_param for model 348 is 0.1\n",
      "Best reg_param for model 349 is 0.5\n",
      "Best reg_param for model 350 is 0.5\n",
      "Best reg_param for model 351 is 0.4\n",
      "Best reg_param for model 352 is 0.5\n",
      "Best reg_param for model 353 is 0.1\n",
      "Best reg_param for model 354 is 0.3\n",
      "Best reg_param for model 355 is 0.5\n",
      "Best reg_param for model 356 is 0.5\n",
      "Best reg_param for model 357 is 0.3\n",
      "Best reg_param for model 358 is 0.5\n",
      "Best reg_param for model 359 is 0.1\n",
      "Best reg_param for model 360 is 0.3\n",
      "Best reg_param for model 361 is 0.1\n",
      "Best reg_param for model 362 is 0.4\n",
      "Best reg_param for model 363 is 0.3\n",
      "Best reg_param for model 364 is 0.5\n",
      "Best reg_param for model 365 is 0.5\n",
      "Best reg_param for model 366 is 0.5\n",
      "Best reg_param for model 367 is 0.4\n",
      "Best reg_param for model 368 is 0.2\n",
      "Best reg_param for model 369 is 0.5\n",
      "Best reg_param for model 370 is 0.5\n",
      "Best reg_param for model 371 is 0.5\n",
      "Best reg_param for model 372 is 0.5\n",
      "Best reg_param for model 373 is 0.1\n",
      "Best reg_param for model 374 is 0.1\n",
      "Best reg_param for model 375 is 0.1\n",
      "Best reg_param for model 376 is 0.5\n",
      "Best reg_param for model 377 is 0.4\n",
      "Best reg_param for model 378 is 0.3\n",
      "Best reg_param for model 379 is 0.1\n",
      "Best reg_param for model 380 is 0.5\n",
      "Best reg_param for model 381 is 0.5\n",
      "Best reg_param for model 382 is 0.2\n",
      "Best reg_param for model 383 is 0.3\n",
      "Best reg_param for model 384 is 0.5\n",
      "Best reg_param for model 385 is 0.5\n",
      "Best reg_param for model 386 is 0.1\n",
      "Best reg_param for model 387 is 0.1\n",
      "Best reg_param for model 388 is 0.1\n",
      "Best reg_param for model 389 is 0.5\n",
      "Best reg_param for model 390 is 0.3\n",
      "Best reg_param for model 391 is 0.1\n",
      "Best reg_param for model 392 is 0.4\n",
      "Best reg_param for model 393 is 0.1\n",
      "Best reg_param for model 394 is 0.1\n",
      "Best reg_param for model 395 is 0.5\n",
      "Best reg_param for model 396 is 0.5\n",
      "Best reg_param for model 397 is 0.4\n",
      "Best reg_param for model 398 is 0.1\n",
      "Best reg_param for model 399 is 0.5\n",
      "Best reg_param for model 400 is 0.4\n",
      "Best reg_param for model 401 is 0.2\n",
      "Best reg_param for model 402 is 0.5\n",
      "Best reg_param for model 403 is 0.1\n",
      "Best reg_param for model 404 is 0.4\n",
      "Best reg_param for model 405 is 0.1\n",
      "Best reg_param for model 406 is 0.1\n",
      "Best reg_param for model 407 is 0.1\n",
      "Best reg_param for model 408 is 0.4\n",
      "Best reg_param for model 409 is 0.2\n",
      "Best reg_param for model 410 is 0.1\n",
      "Best reg_param for model 411 is 0.2\n",
      "Best reg_param for model 412 is 0.2\n",
      "Best reg_param for model 413 is 0.5\n",
      "Best reg_param for model 414 is 0.4\n",
      "Best reg_param for model 415 is 0.1\n",
      "Best reg_param for model 416 is 0.1\n",
      "Best reg_param for model 417 is 0.1\n",
      "Best reg_param for model 418 is 0.4\n",
      "Best reg_param for model 419 is 0.5\n",
      "Best reg_param for model 420 is 0.4\n",
      "Best reg_param for model 421 is 0.1\n",
      "Best reg_param for model 422 is 0.1\n",
      "Best reg_param for model 423 is 0.1\n",
      "Best reg_param for model 424 is 0.1\n",
      "Best reg_param for model 425 is 0.1\n",
      "Best reg_param for model 426 is 0.1\n",
      "Best reg_param for model 427 is 0.3\n",
      "Best reg_param for model 428 is 0.5\n",
      "Best reg_param for model 429 is 0.3\n",
      "Best reg_param for model 430 is 0.5\n",
      "Best reg_param for model 431 is 0.5\n",
      "Best reg_param for model 432 is 0.5\n",
      "Best reg_param for model 433 is 0.5\n",
      "Best reg_param for model 434 is 0.5\n",
      "Best reg_param for model 435 is 0.3\n",
      "Best reg_param for model 436 is 0.5\n",
      "Best reg_param for model 437 is 0.5\n",
      "Best reg_param for model 438 is 0.1\n",
      "Best reg_param for model 439 is 0.5\n",
      "Best reg_param for model 440 is 0.1\n",
      "Best reg_param for model 441 is 0.1\n",
      "Best reg_param for model 442 is 0.1\n",
      "Best reg_param for model 443 is 0.1\n",
      "Best reg_param for model 444 is 0.2\n",
      "Best reg_param for model 445 is 0.1\n",
      "Best reg_param for model 446 is 0.5\n",
      "Best reg_param for model 447 is 0.5\n",
      "Best reg_param for model 448 is 0.1\n",
      "Best reg_param for model 449 is 0.1\n",
      "Best reg_param for model 450 is 0.4\n",
      "Best reg_param for model 451 is 0.3\n",
      "Best reg_param for model 452 is 0.1\n",
      "Best reg_param for model 453 is 0.2\n",
      "Best reg_param for model 454 is 0.1\n",
      "Best reg_param for model 455 is 0.1\n",
      "Best reg_param for model 456 is 0.1\n",
      "Best reg_param for model 457 is 0.3\n",
      "Best reg_param for model 458 is 0.5\n",
      "Best reg_param for model 459 is 0.2\n",
      "Best reg_param for model 460 is 0.1\n",
      "Best reg_param for model 461 is 0.3\n",
      "Best reg_param for model 462 is 0.2\n",
      "Best reg_param for model 463 is 0.4\n",
      "Best reg_param for model 464 is 0.4\n",
      "Best reg_param for model 465 is 0.2\n",
      "Best reg_param for model 466 is 0.1\n",
      "Best reg_param for model 467 is 0.3\n",
      "Best reg_param for model 468 is 0.1\n",
      "Best reg_param for model 469 is 0.1\n",
      "Best reg_param for model 470 is 0.4\n",
      "Best reg_param for model 471 is 0.1\n",
      "Best reg_param for model 472 is 0.2\n",
      "Best reg_param for model 473 is 0.4\n",
      "Best reg_param for model 474 is 0.5\n",
      "Best reg_param for model 475 is 0.3\n",
      "Best reg_param for model 476 is 0.1\n",
      "Best reg_param for model 477 is 0.1\n",
      "Best reg_param for model 478 is 0.5\n",
      "Best reg_param for model 479 is 0.5\n",
      "Best reg_param for model 480 is 0.5\n",
      "Best reg_param for model 481 is 0.5\n",
      "Best reg_param for model 482 is 0.5\n",
      "Best reg_param for model 483 is 0.1\n",
      "Best reg_param for model 484 is 0.1\n",
      "Best reg_param for model 485 is 0.1\n",
      "Best reg_param for model 486 is 0.1\n",
      "Best reg_param for model 487 is 0.4\n",
      "Best reg_param for model 488 is 0.1\n",
      "Best reg_param for model 489 is 0.4\n",
      "Best reg_param for model 490 is 0.2\n",
      "Best reg_param for model 491 is 0.1\n",
      "Best reg_param for model 492 is 0.1\n",
      "Best reg_param for model 493 is 0.4\n",
      "Best reg_param for model 494 is 0.1\n",
      "Best reg_param for model 495 is 0.5\n",
      "Best reg_param for model 496 is 0.2\n",
      "Best reg_param for model 497 is 0.1\n",
      "Best reg_param for model 498 is 0.1\n",
      "Best reg_param for model 499 is 0.3\n",
      "Best reg_param for model 500 is 0.5\n",
      "Best reg_param for model 501 is 0.1\n",
      "Best reg_param for model 502 is 0.5\n",
      "Best reg_param for model 503 is 0.5\n",
      "Best reg_param for model 504 is 0.1\n",
      "Best reg_param for model 505 is 0.1\n",
      "Best reg_param for model 506 is 0.2\n",
      "Best reg_param for model 507 is 0.1\n",
      "Best reg_param for model 508 is 0.1\n",
      "Best reg_param for model 509 is 0.1\n",
      "Best reg_param for model 510 is 0.2\n",
      "Best reg_param for model 511 is 0.3\n"
     ]
    }
   ],
   "source": [
    "# parameter to be optimized\n",
    "params = [{'reg_param': [0.1, 0.2, 0.3, 0.4, 0.5]}]\n",
    "\n",
    "# 512 models\n",
    "reg_params = np.zeros(512)\n",
    "for i in range(512):\n",
    "    train2 = train[train['wheezy-copper-turtle-magic']==i]\n",
    "    test2 = test[test['wheezy-copper-turtle-magic']==i]\n",
    "    idx1 = train2.index; idx2 = test2.index\n",
    "    train2.reset_index(drop=True,inplace=True)\n",
    "\n",
    "    data = pd.concat([pd.DataFrame(train2[cols]), pd.DataFrame(test2[cols])])\n",
    "    data2 = VarianceThreshold(threshold=2).fit_transform(data[cols])\n",
    "\n",
    "    train3 = data2[:train2.shape[0]]; \n",
    "    \n",
    "    qda = QuadraticDiscriminantAnalysis()\n",
    "    clf = GridSearchCV(qda, params, cv=4)\n",
    "    clf.fit(train3, train2['target'])\n",
    "    \n",
    "    reg_params[i] = clf.best_params_['reg_param']\n",
    "    print(\"Best reg_param for model \" + str(i) + \" is \" + str(reg_params[i]))"
   ]
  },
  {
   "cell_type": "code",
   "execution_count": 5,
   "metadata": {},
   "outputs": [
    {
     "data": {
      "text/plain": [
       "<Figure size 432x288 with 0 Axes>"
      ]
     },
     "execution_count": 5,
     "metadata": {},
     "output_type": "execute_result"
    },
    {
     "data": {
      "image/png": "[encoded data removed]",
      "text/plain": [
       "<Figure size 432x288 with 1 Axes>"
      ]
     },
     "metadata": {},
     "output_type": "display_data"
    },
    {
     "data": {
      "text/plain": [
       "<Figure size 432x288 with 0 Axes>"
      ]
     },
     "metadata": {},
     "output_type": "display_data"
    }
   ],
   "source": [
    "sns.distplot(reg_params)\n",
    "plt.title(\"reg_param in QDA\")\n",
    "plt.figure()"
   ]
  },
  {
   "cell_type": "code",
   "execution_count": 6,
   "metadata": {},
   "outputs": [],
   "source": [
    "def get_mean_cov(x,y):\n",
    "    model = GraphicalLasso()\n",
    "    ones = (y==1).astype(bool)\n",
    "    x2 = x[ones]\n",
    "    model.fit(x2)\n",
    "    p1 = model.precision_\n",
    "    m1 = model.location_\n",
    "    \n",
    "    onesb = (y==0).astype(bool)\n",
    "    x2b = x[onesb]\n",
    "    model.fit(x2b)\n",
    "    p2 = model.precision_\n",
    "    m2 = model.location_\n",
    "    \n",
    "    ms = np.stack([m1,m2])\n",
    "    ps = np.stack([p1,p2])\n",
    "    return ms,ps"
   ]
  },
  {
   "cell_type": "code",
   "execution_count": 7,
   "metadata": {},
   "outputs": [],
   "source": [
    "\n",
    "from sklearn.covariance import GraphicalLasso\n",
    "from sklearn.mixture import GaussianMixture\n",
    "from tqdm import tqdm"
   ]
  },
  {
   "cell_type": "code",
   "execution_count": 8,
   "metadata": {},
   "outputs": [
    {
     "name": "stderr",
     "output_type": "stream",
     "text": [
      "100%|██████████| 512/512 [07:09<00:00,  1.22it/s]"
     ]
    },
    {
     "name": "stdout",
     "output_type": "stream",
     "text": [
      "QDA scores CV = 0.96749\n"
     ]
    },
    {
     "name": "stderr",
     "output_type": "stream",
     "text": [
      "\n"
     ]
    }
   ],
   "source": [
    "cols = [c for c in train.columns if c not in ['id', 'target']]\n",
    "cols.remove('wheezy-copper-turtle-magic')\n",
    "oof = np.zeros(len(train))\n",
    "preds = np.zeros(len(test))\n",
    "\n",
    "# BUILD 512 SEPARATE MODELS\n",
    "for i in tqdm(range(512)):\n",
    "    # ONLY TRAIN WITH DATA WHERE WHEEZY EQUALS I\n",
    "    train2 = train[train['wheezy-copper-turtle-magic']==i]\n",
    "    test2 = test[test['wheezy-copper-turtle-magic']==i]\n",
    "    idx1 = train2.index; idx2 = test2.index\n",
    "    train2.reset_index(drop=True,inplace=True)\n",
    "    \n",
    "    # FEATURE SELECTION (USE APPROX 40 OF 255 FEATURES)\n",
    "    sel = VarianceThreshold(threshold=1.5).fit(train2[cols])\n",
    "    train3 = sel.transform(train2[cols])\n",
    "    test3 = sel.transform(test2[cols])\n",
    "    \n",
    "    # STRATIFIED K-FOLD\n",
    "    skf = StratifiedKFold(n_splits=11, random_state=42, shuffle=True)\n",
    "    for train_index, test_index in skf.split(train3, train2['target']):\n",
    "        \n",
    "        # MODEL AND PREDICT WITH QDA\n",
    "        ms, ps = get_mean_cov(train3[train_index,:],train2.loc[train_index]['target'].values)\n",
    "        \n",
    "        gm = GaussianMixture(n_components=2, init_params='random', covariance_type='full', tol=0.001,reg_covar=0.001, max_iter=100, n_init=1,means_init=ms, precisions_init=ps)\n",
    "        gm.fit(np.concatenate([train3,test3],axis = 0))\n",
    "        oof[idx1[test_index]] = gm.predict_proba(train3[test_index,:])[:,0]\n",
    "        preds[idx2] += gm.predict_proba(test3)[:,0] / skf.n_splits\n",
    "\n",
    "        \n",
    "# PRINT CV AUC\n",
    "auc = roc_auc_score(train['target'],oof)\n",
    "print('QDA scores CV =',round(auc,5))"
   ]
  },
  {
   "cell_type": "code",
   "execution_count": 9,
   "metadata": {},
   "outputs": [
    {
     "name": "stdout",
     "output_type": "stream",
     "text": [
      "Pseudo Labeled QDA scores CV = 0.96937\n"
     ]
    }
   ],
   "source": [
    "test['target'] = preds\n",
    "for k in range(512):\n",
    "    # ONLY TRAIN WITH DATA WHERE WHEEZY EQUALS I\n",
    "    train2 = train[train['wheezy-copper-turtle-magic']==k] \n",
    "    train2p = train2.copy(); idx1 = train2.index \n",
    "    test2 = test[test['wheezy-copper-turtle-magic']==k]\n",
    "    \n",
    "    # ADD PSEUDO LABELED DATA\n",
    "    test2p = test2[ (test2['target']<=0.01) | (test2['target']>=0.99) ].copy()\n",
    "    test2p.loc[ test2p['target']>=0.5, 'target' ] = 1\n",
    "    test2p.loc[ test2p['target']<0.5, 'target' ] = 0 \n",
    "    train2p = pd.concat([train2p,test2p],axis=0)\n",
    "    train2p.reset_index(drop=True,inplace=True)\n",
    "    \n",
    "    # FEATURE SELECTION (USE APPROX 40 OF 255 FEATURES)\n",
    "    sel = VarianceThreshold(threshold=1.5).fit(train2p[cols])     \n",
    "    train3p = sel.transform(train2p[cols])\n",
    "    train3 = sel.transform(train2[cols])\n",
    "    test3 = sel.transform(test2[cols])\n",
    "        \n",
    "    # STRATIFIED K FOLD\n",
    "    skf = StratifiedKFold(n_splits=11, random_state=42, shuffle=True)\n",
    "    for train_index, test_index in skf.split(train3p, train2p['target']):\n",
    "        test_index3 = test_index[ test_index<len(train3) ] # ignore pseudo in oof\n",
    "        \n",
    "        # MODEL AND PREDICT WITH QDA\n",
    "        clf = QuadraticDiscriminantAnalysis(reg_param=0.5)\n",
    "        clf.fit(train3p[train_index,:],train2p.loc[train_index]['target'])\n",
    "        oof[idx1[test_index3]] = clf.predict_proba(train3[test_index3,:])[:,1]\n",
    "        preds[test2.index] += clf.predict_proba(test3)[:,1] / skf.n_splits\n",
    "       \n",
    "    #if k%64==0: print(k)\n",
    "        \n",
    "# PRINT CV AUC\n",
    "auc = roc_auc_score(train['target'],oof)\n",
    "print('Pseudo Labeled QDA scores CV =',round(auc,5))\n"
   ]
  },
  {
   "cell_type": "code",
   "execution_count": 10,
   "metadata": {},
   "outputs": [
    {
     "name": "stdout",
     "output_type": "stream",
     "text": [
      "126614 Test Records added for iteration :  0\n"
     ]
    },
    {
     "data": {
      "application/vnd.jupyter.widget-view+json": {
       "model_id": "f630127537ee4d758eb051d16effa53e",
       "version_major": 2,
       "version_minor": 0
      },
      "text/plain": [
       "HBox(children=(IntProgress(value=0, max=512), HTML(value='')))"
      ]
     },
     "metadata": {},
     "output_type": "display_data"
    },
    {
     "name": "stdout",
     "output_type": "stream",
     "text": [
      "\n",
      "AUC: 0.97039\n",
      "124559 Test Records added for iteration :  1\n"
     ]
    },
    {
     "data": {
      "application/vnd.jupyter.widget-view+json": {
       "model_id": "8dede473e57a45dea3e5ced277afaf64",
       "version_major": 2,
       "version_minor": 0
      },
      "text/plain": [
       "HBox(children=(IntProgress(value=0, max=512), HTML(value='')))"
      ]
     },
     "metadata": {},
     "output_type": "display_data"
    },
    {
     "name": "stdout",
     "output_type": "stream",
     "text": [
      "\n",
      "AUC: 0.97025\n",
      "124464 Test Records added for iteration :  2\n"
     ]
    },
    {
     "data": {
      "application/vnd.jupyter.widget-view+json": {
       "model_id": "7926a69494544658b00b796429044f96",
       "version_major": 2,
       "version_minor": 0
      },
      "text/plain": [
       "HBox(children=(IntProgress(value=0, max=512), HTML(value='')))"
      ]
     },
     "metadata": {},
     "output_type": "display_data"
    },
    {
     "name": "stdout",
     "output_type": "stream",
     "text": [
      "\n",
      "AUC: 0.97022\n",
      "124455 Test Records added for iteration :  3\n"
     ]
    },
    {
     "data": {
      "application/vnd.jupyter.widget-view+json": {
       "model_id": "c0eed134c1f448b8989c9bb4c5b5627e",
       "version_major": 2,
       "version_minor": 0
      },
      "text/plain": [
       "HBox(children=(IntProgress(value=0, max=512), HTML(value='')))"
      ]
     },
     "metadata": {},
     "output_type": "display_data"
    },
    {
     "name": "stdout",
     "output_type": "stream",
     "text": [
      "\n",
      "AUC: 0.97021\n",
      "124452 Test Records added for iteration :  4\n"
     ]
    },
    {
     "data": {
      "application/vnd.jupyter.widget-view+json": {
       "model_id": "dae48ec5e32c43b88c1580155784dec1",
       "version_major": 2,
       "version_minor": 0
      },
      "text/plain": [
       "HBox(children=(IntProgress(value=0, max=512), HTML(value='')))"
      ]
     },
     "metadata": {},
     "output_type": "display_data"
    },
    {
     "name": "stdout",
     "output_type": "stream",
     "text": [
      "\n",
      "AUC: 0.97021\n",
      "124452 Test Records added for iteration :  5\n"
     ]
    },
    {
     "data": {
      "application/vnd.jupyter.widget-view+json": {
       "model_id": "2e1d24cb35ef4e2995777f50dadf8326",
       "version_major": 2,
       "version_minor": 0
      },
      "text/plain": [
       "HBox(children=(IntProgress(value=0, max=512), HTML(value='')))"
      ]
     },
     "metadata": {},
     "output_type": "display_data"
    },
    {
     "name": "stdout",
     "output_type": "stream",
     "text": [
      "\n",
      "AUC: 0.97021\n",
      "124452 Test Records added for iteration :  6\n"
     ]
    },
    {
     "data": {
      "application/vnd.jupyter.widget-view+json": {
       "model_id": "152262d1e767416b8f83f07e7ea05d94",
       "version_major": 2,
       "version_minor": 0
      },
      "text/plain": [
       "HBox(children=(IntProgress(value=0, max=512), HTML(value='')))"
      ]
     },
     "metadata": {},
     "output_type": "display_data"
    },
    {
     "name": "stdout",
     "output_type": "stream",
     "text": [
      "\n",
      "AUC: 0.97021\n",
      "124452 Test Records added for iteration :  7\n"
     ]
    },
    {
     "data": {
      "application/vnd.jupyter.widget-view+json": {
       "model_id": "3e5c3f8e630740079b3463b20e680a13",
       "version_major": 2,
       "version_minor": 0
      },
      "text/plain": [
       "HBox(children=(IntProgress(value=0, max=512), HTML(value='')))"
      ]
     },
     "metadata": {},
     "output_type": "display_data"
    },
    {
     "name": "stdout",
     "output_type": "stream",
     "text": [
      "\n",
      "AUC: 0.97021\n",
      "124452 Test Records added for iteration :  8\n"
     ]
    },
    {
     "data": {
      "application/vnd.jupyter.widget-view+json": {
       "model_id": "59c9a29ae10244ea90e608447f96c0b5",
       "version_major": 2,
       "version_minor": 0
      },
      "text/plain": [
       "HBox(children=(IntProgress(value=0, max=512), HTML(value='')))"
      ]
     },
     "metadata": {},
     "output_type": "display_data"
    },
    {
     "name": "stdout",
     "output_type": "stream",
     "text": [
      "\n",
      "AUC: 0.97021\n",
      "124452 Test Records added for iteration :  9\n"
     ]
    },
    {
     "data": {
      "application/vnd.jupyter.widget-view+json": {
       "model_id": "a2f2d07862984753bc5d4f326d65e44c",
       "version_major": 2,
       "version_minor": 0
      },
      "text/plain": [
       "HBox(children=(IntProgress(value=0, max=512), HTML(value='')))"
      ]
     },
     "metadata": {},
     "output_type": "display_data"
    },
    {
     "name": "stdout",
     "output_type": "stream",
     "text": [
      "\n",
      "AUC: 0.97021\n"
     ]
    }
   ],
   "source": [
    "from tqdm import tqdm_notebook\n",
    "from sklearn.pipeline import Pipeline\n",
    "for itr in range(10):\n",
    "    test['target'] = preds\n",
    "    test.loc[test['target'] > 0.94, 'target'] = 1\n",
    "    test.loc[test['target'] < 0.06, 'target'] = 0\n",
    "    usefull_test = test[(test['target'] == 1) | (test['target'] == 0)]\n",
    "    new_train = pd.concat([train, usefull_test]).reset_index(drop=True)\n",
    "    print(usefull_test.shape[0], \"Test Records added for iteration : \", itr)\n",
    "    new_train.loc[oof > 0.98, 'target'] = 1\n",
    "    new_train.loc[oof < 0.02, 'target'] = 0\n",
    "    oof2 = np.zeros(len(train))\n",
    "    preds = np.zeros(len(test))\n",
    "    for i in tqdm_notebook(range(512)):\n",
    "\n",
    "        train2 = new_train[new_train['wheezy-copper-turtle-magic']==i]\n",
    "        test2 = test[test['wheezy-copper-turtle-magic']==i]\n",
    "        idx1 = train[train['wheezy-copper-turtle-magic']==i].index\n",
    "        idx2 = test2.index\n",
    "        train2.reset_index(drop=True,inplace=True)\n",
    "\n",
    "        data = pd.concat([pd.DataFrame(train2[cols]), pd.DataFrame(test2[cols])])\n",
    "        pipe = Pipeline([('vt', VarianceThreshold(threshold=2)), ('scaler', StandardScaler())])\n",
    "        data2 = pipe.fit_transform(data[cols])\n",
    "        train3 = data2[:train2.shape[0]]\n",
    "        test3 = data2[train2.shape[0]:]\n",
    "\n",
    "        skf = StratifiedKFold(n_splits=11, random_state=42)\n",
    "        for train_index, test_index in skf.split(train2, train2['target']):\n",
    "            oof_test_index = [t for t in test_index if t < len(idx1)]\n",
    "            \n",
    "            clf = QuadraticDiscriminantAnalysis(0.5)\n",
    "            clf.fit(train3[train_index,:],train2.loc[train_index]['target'])\n",
    "            if len(oof_test_index) > 0:\n",
    "                oof2[idx1[oof_test_index]] = clf.predict_proba(train3[oof_test_index,:])[:,1]\n",
    "            preds[idx2] += clf.predict_proba(test3)[:,1] / skf.n_splits\n",
    "    auc = roc_auc_score(train['target'], oof2)\n",
    "    print(f'AUC: {auc:.5}')"
   ]
  },
  {
   "cell_type": "code",
   "execution_count": 11,
   "metadata": {},
   "outputs": [],
   "source": [
    "\n",
    "sub = pd.read_csv('../input/sample_submission.csv')\n",
    "sub['target'] = preds\n",
    "sub.to_csv('submission.csv',index=False)"
   ]
  }
 ],
 "metadata": {
  "kernelspec": {
   "display_name": "Python 3",
   "language": "python",
   "name": "python3"
  },
  "language_info": {
   "codemirror_mode": {
    "name": "ipython",
    "version": 3
   },
   "file_extension": ".py",
   "mimetype": "text/x-python",
   "name": "python",
   "nbconvert_exporter": "python",
   "pygments_lexer": "ipython3",
   "version": "3.6.4"
  }
 },
 "nbformat": 4,
 "nbformat_minor": 1
}
